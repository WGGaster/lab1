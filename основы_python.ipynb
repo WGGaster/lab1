{
  "cells": [
    {
      "cell_type": "code",
      "execution_count": 2,
      "metadata": {
        "id": "gMAAqtqlQrZt"
      },
      "outputs": [],
      "source": [
        "import math"
      ]
    },
    {
      "cell_type": "markdown",
      "metadata": {
        "id": "M-DGa20PaHnu"
      },
      "source": [
        "#Задача 1\n",
        "Написать функцию на вход которой подается строка, состоящая из латинских букв.\n",
        "Функция должна вернуть количество гласных букв (a, e, i, o, u) в этой строке. Написать тесты для кода"
      ]
    },
    {
      "cell_type": "code",
      "execution_count": 1,
      "metadata": {
        "id": "XvX8X_JJ6PCb"
      },
      "outputs": [
        {
          "name": "stdout",
          "output_type": "stream",
          "text": [
            "1\n",
            "2\n"
          ]
        }
      ],
      "source": [
        "def task1(line):\n",
        "  count = 0\n",
        "  for symbol in line:\n",
        "    if symbol == 'a' or symbol == 'e' or symbol == 'i' or symbol == 'o' or symbol == 'u':\n",
        "      count += 1\n",
        "  return count\n",
        "\n",
        "print(task1('wen'))\n",
        "print(task1('popcorn'))"
      ]
    },
    {
      "cell_type": "markdown",
      "metadata": {
        "id": "t2ClV_Y0bbr6"
      },
      "source": [
        "# Задача 2\n",
        "Написать функцию на вход, которой подается строка. Функция должна вернуть true, если\n",
        "каждый символ в строке встречается только 1 раз, иначе должна вернуть false. Написать тесты для кода"
      ]
    },
    {
      "cell_type": "code",
      "execution_count": null,
      "metadata": {
        "id": "FppbECao6VIz"
      },
      "outputs": [],
      "source": [
        "def task2(line):\n",
        "  lineSet = set(line)\n",
        "  return len(lineSet) == len(line)\n",
        "\n",
        "print(task2('123'))\n",
        "print(task2('7822'))"
      ]
    },
    {
      "cell_type": "markdown",
      "metadata": {
        "id": "udRiIK1cdt6E"
      },
      "source": [
        "# Задача 3\n",
        "Написать функцию, которая принимает положительное число и возвращает количество\n",
        "бит равных 1 в этом числе. Написать тесты для кода"
      ]
    },
    {
      "cell_type": "code",
      "execution_count": null,
      "metadata": {
        "id": "6tkfDJRz6dp_"
      },
      "outputs": [],
      "source": [
        "def task3(number, count):\n",
        "  if number % 2 == 1:\n",
        "    count += 1\n",
        "  if number // 2 != 0:\n",
        "    return task3(number // 2, count)\n",
        "  else:\n",
        "    return count\n",
        "\n",
        "print(task3(3, 0))\n",
        "print(task3(7, 0))"
      ]
    },
    {
      "cell_type": "markdown",
      "metadata": {
        "id": "26dDUz-Ae17N"
      },
      "source": [
        "# Задача 4\n",
        "Написать функцию, которая принимает положительное число. Функция должна вернуть то,\n",
        "сколько раз необходимо перемножать цифры числа или результат перемножения, чтобы\n",
        "получилось число состоящее из одной цифры.\n",
        "Например, для входного числа:\n",
        "· 39 функция должна вернуть 3, так как 3*9=27 => 2*7=14 => 1*4=4\n",
        "· 4 функция должна вернуть 0, так как число уже состоит из одной цифры\n",
        "· 999 функция должна вернуть 4, так как 9*9*9=729 => 7*2*9=126 => 1*2*6=12 =>\n",
        "1*2=2. Написать тесты для кода"
      ]
    },
    {
      "cell_type": "code",
      "execution_count": null,
      "metadata": {
        "id": "BH1A_Mgi6i4G"
      },
      "outputs": [],
      "source": [
        "def task4(num):\n",
        "  if num // 10 == 0:\n",
        "    return 0;\n",
        "  else:\n",
        "    newNum = 1\n",
        "    while num > 0:\n",
        "      newNum *= num % 10\n",
        "      num //= 10\n",
        "    return task4(newNum) + 1\n",
        "\n",
        "print(task4(39))\n",
        "print(task4(999))"
      ]
    },
    {
      "cell_type": "markdown",
      "metadata": {
        "id": "0nS-kIa8g8vd"
      },
      "source": [
        "# Задача 5\n",
        "Написать функцию, которая принимает два целочисленных вектора одинаковой длины и\n",
        "возвращает среднеквадратическое отклонение двух векторов. Написать тесты для кода"
      ]
    },
    {
      "cell_type": "code",
      "execution_count": null,
      "metadata": {
        "id": "8iphx4LM6xbx"
      },
      "outputs": [],
      "source": [
        "def task5(mas1, mas2):\n",
        "  sum = 0\n",
        "  n = len(mas1)\n",
        "  for i in range(n):\n",
        "    sum +=(mas1[1] - mas2[1]) **2\n",
        "  return sum/n\n",
        "\n",
        "print(task5([2,5,9], [2,1,4]))\n",
        "print(task5([9,7,1], [3,1,0]))"
      ]
    },
    {
      "cell_type": "markdown",
      "metadata": {
        "id": "vpIPKL439zkw"
      },
      "source": [
        "# Задача 6\n",
        "Написать функцию, принимающая целое положительное число. Функция должна вернуть\n",
        "строку вида “(n1**p1)(n2**p2)…(nk**pk)” представляющая разложение числа на простые\n",
        "множители (если pi == 1, то выводить только ni).\n",
        "Например, для числа 86240 функция должна вернуть “(2**5)(5)(7**2)(11)”. Написать тесты для кода"
      ]
    },
    {
      "cell_type": "code",
      "execution_count": 20,
      "metadata": {
        "id": "pFebmcZk94Jw"
      },
      "outputs": [
        {
          "name": "stdout",
          "output_type": "stream",
          "text": [
            "(2)(5)\n",
            "(2**5)(5)(7**2)(11)\n"
          ]
        }
      ],
      "source": [
        "def task6(num):\n",
        "    mas = [1] * 86241\n",
        "    mas[0] = mas[1] = 0\n",
        "    rezult = ''\n",
        "    for i in range(2, len(mas)):\n",
        "        count = 0\n",
        "        if mas[i] != 1:\n",
        "            continue\n",
        "        for j in range(i + 1, len(mas)):\n",
        "            if j % i == 0:\n",
        "                mas[j] = 0\n",
        "        \n",
        "        while num % i == 0:\n",
        "            count += 1\n",
        "            num //= i\n",
        "        \n",
        "        if count > 0:\n",
        "            if count == 1:\n",
        "                rezult += f'({i})'\n",
        "            else:\n",
        "                rezult += f'({i}**{count})'\n",
        "\n",
        "        if num == 1:\n",
        "            return rezult\n",
        "        \n",
        "print(task6(10))\n",
        "print(task6(86240))"
      ]
    },
    {
      "cell_type": "markdown",
      "metadata": {
        "id": "ps2s0BudX7A2"
      },
      "source": [
        "# Задача 7\n",
        "Написать функцию, принимающая целое число n, задающее количество кубиков. Функция\n",
        "должна определить, можно ли из данного кол-ва кубиков построить пирамиду, то есть\n",
        "можно ли представить число n как 1^2+2^2+3^2+…+k^2. Если можно, то функция должна\n",
        "вернуть k, иначе строку “It is impossible”. Написать тесты для кода"
      ]
    },
    {
      "cell_type": "code",
      "execution_count": 24,
      "metadata": {
        "id": "3YPjEXxhX_YT"
      },
      "outputs": [
        {
          "name": "stdout",
          "output_type": "stream",
          "text": [
            "1\n",
            "3\n",
            "It is impossible\n"
          ]
        }
      ],
      "source": [
        "def task7(number, i):\n",
        "    number -= i ** 2\n",
        "    if number > 0:\n",
        "        return task7(number, i + 1)\n",
        "    if number == 0:\n",
        "        return i\n",
        "    return 'It is impossible'\n",
        "    \n",
        "print(task7(1, 1))\n",
        "print(task7(14, 1))\n",
        "print(task7(15, 1))"
      ]
    },
    {
      "cell_type": "markdown",
      "metadata": {
        "id": "KeKgmIdAQMEJ"
      },
      "source": [
        "# Задача 8\n",
        "Функция принимает на вход положительное число и определяет является ли оно сбалансированным, т.е. сумма цифр до средних равна сумме цифр после. Средними в случае нечетного числа цифр считать одну цифру, в случае четного - две средних. Написать тесты для кода"
      ]
    },
    {
      "cell_type": "code",
      "execution_count": 42,
      "metadata": {},
      "outputs": [
        {
          "name": "stdout",
          "output_type": "stream",
          "text": [
            "False\n",
            "True\n"
          ]
        }
      ],
      "source": [
        "def sum_digits(num):\n",
        "    sum = 0\n",
        "    while num > 0:\n",
        "        sum += num % 10\n",
        "        num //= 10\n",
        "    return sum\n",
        "\n",
        "def task8(num):\n",
        "    if (num < 100):\n",
        "        return False\n",
        "    num_str = str(num)\n",
        "    len_num = len(num_str)\n",
        "    middle = len_num // 2\n",
        "    left = 0\n",
        "    right = 0\n",
        "    if len_num % 2 == 1:\n",
        "        left = sum_digits(int(num_str[:middle]))\n",
        "        right = sum_digits(int(num_str[middle + 1:]))\n",
        "    else:\n",
        "        left = sum_digits(int(num_str[:middle - 1]))\n",
        "        right = sum_digits(int(num_str[middle + 1:]))\n",
        "\n",
        "    return left == right\n",
        "\n",
        "print(task8(23))\n",
        "print(task8(23923))\n",
        "\n",
        "\n"
      ]
    }
  ],
  "metadata": {
    "colab": {
      "provenance": []
    },
    "kernelspec": {
      "display_name": "Python 3",
      "name": "python3"
    },
    "language_info": {
      "codemirror_mode": {
        "name": "ipython",
        "version": 3
      },
      "file_extension": ".py",
      "mimetype": "text/x-python",
      "name": "python",
      "nbconvert_exporter": "python",
      "pygments_lexer": "ipython3",
      "version": "3.12.3"
    }
  },
  "nbformat": 4,
  "nbformat_minor": 0
}
