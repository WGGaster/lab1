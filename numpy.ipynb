{
  "cells": [
    {
      "cell_type": "markdown",
      "metadata": {
        "id": "vC84e9kzyxPy"
      },
      "source": [
        "<h1>Импорт библиотек"
      ]
    },
    {
      "cell_type": "code",
      "execution_count": 1,
      "metadata": {
        "id": "cgKeNegmQG5S"
      },
      "outputs": [],
      "source": [
        "from scipy.signal import argrelextrema\n",
        "import numpy as np\n",
        "import matplotlib.pyplot as plt"
      ]
    },
    {
      "cell_type": "markdown",
      "metadata": {
        "id": "qFM9uVU2x4Ls"
      },
      "source": [
        "<h1>Задача 1. Дан набор из $p$ матриц размерностью $(n, n)$ и $p$ векторов размерностью $(n, 1)$, найти сумму произведений матриц на векторы. Написать тесты для кода"
      ]
    },
    {
      "cell_type": "code",
      "execution_count": 6,
      "metadata": {
        "id": "IAbUvEiYyWFF"
      },
      "outputs": [
        {
          "name": "stdout",
          "output_type": "stream",
          "text": [
            "32\n",
            "157\n"
          ]
        }
      ],
      "source": [
        "def sum_prod(X, V):\n",
        "    rezMatrix = np.dot(X, V)\n",
        "    return np.sum(rezMatrix)\n",
        "\n",
        "print(sum_prod(np.array([[4, 4], [4, 4]]), np.array([2, 2])))\n",
        "print(sum_prod(np.array([[1, 7, 9], [2, 2, 10]]), np.array([2, 2, 7])))\n"
      ]
    },
    {
      "cell_type": "markdown",
      "metadata": {
        "id": "TKwPG4fIy2w4"
      },
      "source": [
        "<h1>Задача 2. Дана матрица M, напишите функцию, которая бинаризует матрицу по некоторому threshold (то есть, все значения большие threshold становятся равными 1, иначе 0). Напишите тесты для кода"
      ]
    },
    {
      "cell_type": "code",
      "execution_count": 9,
      "metadata": {
        "id": "KQDNMgsjRNH7"
      },
      "outputs": [
        {
          "name": "stdout",
          "output_type": "stream",
          "text": [
            "[[0 0 1 1 1]\n",
            " [0 0 0 1 0]]\n"
          ]
        }
      ],
      "source": [
        "def binarize(M, threshold=0.5):\n",
        "    M = np.where(M > threshold, 1, 0)\n",
        "    return M\n",
        "    pass\n",
        "\n",
        "print(binarize(np.array([[5, 2, 9.1, 14, 28], [1, 2, 2, 10, 6]]), 9))"
      ]
    },
    {
      "cell_type": "markdown",
      "metadata": {
        "id": "IY5L-h-7zWhN"
      },
      "source": [
        "<h1>Задача 3. Напишите функцию, которая возвращает уникальные элементы из каждой строки матрицы. Напишите такую же функцию, но для столбцов. Напишите тесты для кода"
      ]
    },
    {
      "cell_type": "code",
      "execution_count": 33,
      "metadata": {
        "id": "-8dEZhR0SBC-"
      },
      "outputs": [
        {
          "name": "stdout",
          "output_type": "stream",
          "text": [
            "[{np.int64(1), np.int64(2), np.int64(3)}, {np.int64(8), np.int64(9), np.int64(7)}]\n",
            "[{np.int64(1), np.int64(2), np.int64(23), np.int64(7)}, {np.int64(8), np.int64(0), np.int64(2), np.int64(5)}]\n"
          ]
        }
      ],
      "source": [
        "def unique_rows(mat):\n",
        "    rez = []\n",
        "    for i in range(np.size(mat, 0)):\n",
        "        rez.append(set(mat[i]))\n",
        "    return rez\n",
        "   \n",
        "\n",
        "def unique_columns(mat):\n",
        "    rez = []\n",
        "    for i in range(np.size(mat, 1)):\n",
        "        rez.append(set(mat[:, i]))\n",
        "    return rez\n",
        "\n",
        "\n",
        "\n",
        "print(unique_rows(np.array([[1, 2, 2, 3, 3], [7, 8, 9, 9, 9]])))\n",
        "print(unique_columns(np.array([[1, 2], [7, 8], [23, 0], [7, 5], [2, 8]])))"
      ]
    },
    {
      "cell_type": "markdown",
      "metadata": {
        "id": "roYAlo4Jz-lH"
      },
      "source": [
        "<h1>Задача 4. Напишите функцию, которая заполняет матрицу с размерами $(m, n)$ случайными числами, распределенными по нормальному закону. Затем считает мат. ожидание и дисперсию для каждого из столбцов и строк, а также строит для каждой строки и столбца гистограмму значений (использовать функцию hist из модуля matplotlib.plot)"
      ]
    },
    {
      "cell_type": "code",
      "execution_count": null,
      "metadata": {
        "id": "nZK_71hMSQzv"
      },
      "outputs": [
        {
          "name": "stdout",
          "output_type": "stream",
          "text": [
            "[[-0.63550391 -1.41850079  1.91235809 -1.66585475]\n",
            " [-0.88950388  0.41200341  0.27146411  0.5173812 ]\n",
            " [-1.29543786  0.43750112 -2.23267247  1.0252684 ]]\n"
          ]
        },
        {
          "data": {
            "image/png": "[encoded data removed]",
            "text/plain": [
              "<Figure size 640x480 with 1 Axes>"
            ]
          },
          "metadata": {},
          "output_type": "display_data"
        }
      ],
      "source": [
        "mas = np.random.normal(size=(3, 4))\n",
        "masRow = []\n",
        "\n",
        "for i in range(3):\n",
        "    masRow.append((np.mean(mas[i]), np.var(mas[i])))\n",
        "\n",
        "masColumn = []\n",
        "\n",
        "for i in range(4):\n",
        "    masRow.append((np.mean(mas[:, i]), np.var(mas[:, i])))\n",
        "\n",
        "plt.hist(x=mas[0])\n",
        "print(mas)"
      ]
    },
    {
      "cell_type": "markdown",
      "metadata": {
        "id": "BDyATNdM0dJ2"
      },
      "source": [
        "<h1>Задача 5. Напишите функцию, которая заполняет матрицу $(m, n)$ в шахматном порядке заданными числами $a$ и $b$. Напишите тесты для кода"
      ]
    },
    {
      "cell_type": "code",
      "execution_count": 16,
      "metadata": {
        "id": "RWNJYWQGecS6"
      },
      "outputs": [
        {
          "name": "stdout",
          "output_type": "stream",
          "text": [
            "[[6 5 6 5 6]\n",
            " [5 6 5 6 5]\n",
            " [6 5 6 5 6]\n",
            " [5 6 5 6 5]\n",
            " [6 5 6 5 6]]\n",
            "[[ 1 12  1 12  1 12]\n",
            " [12  1 12  1 12  1]\n",
            " [ 1 12  1 12  1 12]\n",
            " [12  1 12  1 12  1]]\n"
          ]
        }
      ],
      "source": [
        "def chess(m, n, a, b):\n",
        "    num = a\n",
        "    mas = np.array([[a if (i + j) % 2 else b for j in range(m)] for i in range(n)])\n",
        "    return mas\n",
        "    \n",
        "\n",
        "print(chess(5, 5, 5, 6))\n",
        "print(chess(6, 4, 12, 1))"
      ]
    },
    {
      "cell_type": "markdown",
      "metadata": {
        "id": "-ymXLtTN0vB6"
      },
      "source": [
        "<h1>Задача 6. Напишите функцию, которая отрисовывает прямоугольник с заданными размерами (a, b) на изображении размера (m, n), цвет фона задайте в схеме RGB, как и цвет прямоугольника. Цвета также должны быть параметрами функции. Напишите аналогичную функцию но для овала с полуосями a и b. Напишите тесты для кода.\n",
        "Примечание: уравнение эллипса (границы овала) можно записать как:\n",
        "<h1>$\\frac{(x-x_0)^2}{a^2}+\\frac{(y-y_0)^2}{b^2}=1$"
      ]
    },
    {
      "cell_type": "code",
      "execution_count": 73,
      "metadata": {
        "id": "sNfl1t_kfOF4"
      },
      "outputs": [
        {
          "name": "stdout",
          "output_type": "stream",
          "text": [
            "[[0. 0. 0. ... 0. 0. 0.]\n",
            " [0. 0. 0. ... 0. 0. 0.]\n",
            " [0. 0. 0. ... 0. 0. 0.]\n",
            " ...\n",
            " [0. 0. 0. ... 0. 0. 0.]\n",
            " [0. 0. 0. ... 0. 0. 0.]\n",
            " [0. 0. 0. ... 0. 0. 0.]]\n"
          ]
        },
        {
          "data": {
            "image/png": "[encoded data removed]",
            "text/plain": [
              "<Figure size 640x480 with 1 Axes>"
            ]
          },
          "metadata": {},
          "output_type": "display_data"
        },
        {
          "data": {
            "image/png": "[encoded data removed]",
            "text/plain": [
              "<Figure size 640x480 with 1 Axes>"
            ]
          },
          "metadata": {},
          "output_type": "display_data"
        },
        {
          "data": {
            "image/png": "[encoded data removed]",
            "text/plain": [
              "<Figure size 640x480 with 1 Axes>"
            ]
          },
          "metadata": {},
          "output_type": "display_data"
        }
      ],
      "source": [
        "def draw_rectangle(a, b, m, n, rectangle_color, background_color):\n",
        "    rectangle = np.zeros((m, n))\n",
        "    for i in range(a):\n",
        "        for j in range(b):\n",
        "            if i == 0 or j == 0 or i == a - 1 or j == b - 1:\n",
        "                rectangle[i, j] = rectangle_color\n",
        "            else:\n",
        "                rectangle[i, j] = background_color\n",
        "    plt.figure()\n",
        "    plt.imshow(rectangle, cmap=\"gray\")\n",
        "\n",
        "def draw_ellipse(a, b, m, n, ellipse_color, background_color):\n",
        "    field = np.zeros((m, n))\n",
        "    x0 = n // 2\n",
        "    y0 = m // 2\n",
        "    for i in range(m):\n",
        "        for j in range(n):\n",
        "            f = (j - x0) ** 2 / b ** 2 + (i - y0) ** 2 / a ** 2\n",
        "            if 0.85 <= f <= 1:\n",
        "                field[i, j] = ellipse_color\n",
        "            elif f < 0.85:\n",
        "                field[i, j] = background_color\n",
        "    plt.figure()\n",
        "    plt.imshow(field, cmap=\"gray\")\n",
        "    print(field)\n",
        "    \n",
        "\n",
        "draw_rectangle(4, 3, 6, 6, 255, 123)\n",
        "draw_rectangle(4, 1, 6, 6, 255, 123)\n",
        "draw_ellipse(30, 40, 100, 100, 255, 123)"
      ]
    },
    {
      "cell_type": "markdown",
      "metadata": {
        "id": "S82c38oz244H"
      },
      "source": [
        "<h1>Задача 7. Дан некий временной ряд. Для данного ряда нужно найти его: математическое ожидание, дисперсию, СКО, найти все локальные максимумы и минимумы (локальный максимум - это точка, которая больше своих соседних точек, а локальный минимум - это точка, которая меньше своих соседей), а также вычислить для данного ряда другой ряд, получаемый методом скользящего среднего с размером окна $p$.\n",
        "<h1>Примечание: метод скользящего среднего подразумевает нахождение среднего из подмножетсва ряда размером $p$"
      ]
    },
    {
      "cell_type": "code",
      "execution_count": 21,
      "metadata": {
        "id": "Zb9mIVge5MMt"
      },
      "outputs": [
        {
          "name": "stdout",
          "output_type": "stream",
          "text": [
            "2.888888888888889\n",
            "3.2098765432098766\n",
            "(array([5]),)\n",
            "(array([7]),)\n",
            "[2.5  3.5  4.5  4.5  3.5  2.75]\n"
          ]
        }
      ],
      "source": [
        "def task7(row, p):\n",
        "    print(np.mean(row))\n",
        "    print(np.var(row))\n",
        "    print(argrelextrema(row, np.greater))\n",
        "    print(argrelextrema(row, np.less))\n",
        "    row_new = np.cumsum(row)\n",
        "    row_new[p:] = row_new[p:] - row_new[:-p]\n",
        "    print(row_new[p - 1:] / p)\n",
        "    \n",
        "\n",
        "task7(np.array([1, 2, 3, 4, 5, 6, 3, 0, 2]), 4)\n",
        "    "
      ]
    },
    {
      "cell_type": "markdown",
      "metadata": {
        "id": "jPkylmOX5O9n"
      },
      "source": [
        "<h1> Задача 8. Дан некоторый вектор с целочисленными метками классов, напишите функцию, которая выполняет one-hot-encoding для данного вектора\n",
        "<h1> One-hot-encoding - представление, в котором на месте метки некоторого класса стоит 1, в остальных позициях стоит 0. Например для вектора [0, 2, 3, 0] one-hot-encoding выглядит как: [[1, 0, 0, 0], [0, 0, 1, 0], [0, 0, 0, 1], [1, 0, 0, 0]]"
      ]
    },
    {
      "cell_type": "code",
      "execution_count": 18,
      "metadata": {
        "id": "Y-jlnZvw56lD"
      },
      "outputs": [
        {
          "name": "stdout",
          "output_type": "stream",
          "text": [
            "[[1. 0. 0. 0.]\n",
            " [0. 0. 1. 0.]\n",
            " [0. 0. 0. 1.]\n",
            " [1. 0. 0. 0.]]\n"
          ]
        }
      ],
      "source": [
        "# Your code goes here\n",
        "def OneHotEncoding(mas):\n",
        "    matrix = np.array(mas)\n",
        "    countClass = max(mas) +1\n",
        "    rez = np.eye(countClass)[matrix]\n",
        "    return rez\n",
        "\n",
        "print(OneHotEncoding([0, 2, 3, 0]))"
      ]
    }
  ],
  "metadata": {
    "colab": {
      "provenance": []
    },
    "kernelspec": {
      "display_name": "Python 3",
      "name": "python3"
    },
    "language_info": {
      "codemirror_mode": {
        "name": "ipython",
        "version": 3
      },
      "file_extension": ".py",
      "mimetype": "text/x-python",
      "name": "python",
      "nbconvert_exporter": "python",
      "pygments_lexer": "ipython3",
      "version": "3.12.3"
    }
  },
  "nbformat": 4,
  "nbformat_minor": 0
}
